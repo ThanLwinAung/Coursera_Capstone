{
    "nbformat_minor": 1, 
    "cells": [
        {
            "source": "# Capstone Project", 
            "cell_type": "markdown", 
            "metadata": {
                "collapsed": true
            }
        }, 
        {
            "source": "# The Battle of Neighborhoods - Week 1", 
            "cell_type": "markdown", 
            "metadata": {}
        }, 
        {
            "source": "## Introduction and Business Problem Section", 
            "cell_type": "markdown", 
            "metadata": {}
        }, 
        {
            "source": "#### Background\n\nA person currently studying data science who was used to stay in Singapore for 8 years within walking distance to \"Boon Lay MRT station\" as publice transport to go for work. Now, cosidering to apply the skills and knowledge learnt in IBM Data Science courses to explore the rental price of Manhattan, New York compares to its of Jurong West, Singapore.   \n\n##### Problem to be resolved:\n\nThe following criterias are set to compare the rental price of Manhattan, NY and Jurong West, SG:\n\nApartment with min 2 bedrooms with monthly rent not to exceed US$4500/month\nUnit located within walking distance (<=0.5 mile, 0.8 km) from a subway metro station in Manhattan\n\n##### Interested Audience\n\nThis is aimed to help the migrant workers who are interested to work in Manhattan, NY", 
            "cell_type": "markdown", 
            "metadata": {}
        }, 
        {
            "source": "## Data Section", 
            "cell_type": "markdown", 
            "metadata": {}
        }, 
        {
            "source": "#### Description of Data\n\nVenues around the Jurong West, SG will be fetched using Forusquare to serve as a reference for comparison to the future location in Manhattan, NY. Their Geodata (latitude and longitude, information of MRT and subway metro stations), list of apartments for rent in Manhattan area with descriptions, venues and ammentities in the neighborhoods. The necessary data collection from relevant sources, data processing and data structuring will be done to use in Nominatim.\n\n\n#### How the data will be used to solve the problem\n\nUse Foursquare and geopy data to map the location of subway metro stations. Explore each subway station individually using Forusquare and geopy data to map the venues and ammenities in order to cluster by mapping together with distance from each subway station (i.e. <=0.8 km) and the average rental price per square ft or per month. The required data will be searched in open data sources from all available sources to identify the criterias set in the above to solve the problem.", 
            "cell_type": "markdown", 
            "metadata": {}
        }, 
        {
            "execution_count": null, 
            "cell_type": "code", 
            "metadata": {}, 
            "outputs": [], 
            "source": ""
        }
    ], 
    "metadata": {
        "kernelspec": {
            "display_name": "Python 3.6", 
            "name": "python3", 
            "language": "python"
        }, 
        "language_info": {
            "mimetype": "text/x-python", 
            "nbconvert_exporter": "python", 
            "version": "3.6.8", 
            "name": "python", 
            "file_extension": ".py", 
            "pygments_lexer": "ipython3", 
            "codemirror_mode": {
                "version": 3, 
                "name": "ipython"
            }
        }
    }, 
    "nbformat": 4
}